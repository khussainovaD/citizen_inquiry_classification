{
 "cells": [
  {
   "cell_type": "markdown",
   "id": "fc44dd95",
   "metadata": {},
   "source": [
    "# 02. Preprocessing of text data"
   ]
  },
  {
   "cell_type": "code",
   "execution_count": 5,
   "id": "bbfc5421",
   "metadata": {},
   "outputs": [],
   "source": [
    "import pandas as pd\n",
    "import numpy as np\n",
    "import re\n",
    "import os\n",
    "import nltk\n",
    "from nltk.corpus import stopwords\n",
    "from natasha import Segmenter, NewsEmbedding, NewsMorphTagger, MorphVocab, Doc"
   ]
  },
  {
   "cell_type": "code",
   "execution_count": 6,
   "id": "bae4db83",
   "metadata": {},
   "outputs": [
    {
     "name": "stdout",
     "output_type": "stream",
     "text": [
      "Все библиотеки загружены!\n"
     ]
    }
   ],
   "source": [
    "try:\n",
    "    stopwords.words('russian')\n",
    "except LookupError:\n",
    "    nltk.download('stopwords')\n",
    "\n",
    "print(\"Все библиотеки загружены!\")"
   ]
  },
  {
   "cell_type": "markdown",
   "id": "dfd3099e",
   "metadata": {},
   "source": [
    "## 1. data loading"
   ]
  },
  {
   "cell_type": "code",
   "execution_count": 7,
   "id": "b16257a2",
   "metadata": {},
   "outputs": [
    {
     "name": "stdout",
     "output_type": "stream",
     "text": [
      "Датасет успешно загружен из ..\\sample_data\\sample_inquiries.csv\n",
      "Размер: (98, 2)\n"
     ]
    },
    {
     "data": {
      "text/html": [
       "<div>\n",
       "<style scoped>\n",
       "    .dataframe tbody tr th:only-of-type {\n",
       "        vertical-align: middle;\n",
       "    }\n",
       "\n",
       "    .dataframe tbody tr th {\n",
       "        vertical-align: top;\n",
       "    }\n",
       "\n",
       "    .dataframe thead th {\n",
       "        text-align: right;\n",
       "    }\n",
       "</style>\n",
       "<table border=\"1\" class=\"dataframe\">\n",
       "  <thead>\n",
       "    <tr style=\"text-align: right;\">\n",
       "      <th></th>\n",
       "      <th>text</th>\n",
       "      <th>category</th>\n",
       "    </tr>\n",
       "  </thead>\n",
       "  <tbody>\n",
       "    <tr>\n",
       "      <th>0</th>\n",
       "      <td>Здравствуйте, как я могу получить адресную спр...</td>\n",
       "      <td>Запрос на госуслугу</td>\n",
       "    </tr>\n",
       "    <tr>\n",
       "      <th>1</th>\n",
       "      <td>Почему портал электронного правительства посто...</td>\n",
       "      <td>Техническая проблема</td>\n",
       "    </tr>\n",
       "    <tr>\n",
       "      <th>2</th>\n",
       "      <td>Выражаю благодарность сотруднику ЦОНа №3 город...</td>\n",
       "      <td>Предложение/Отзыв</td>\n",
       "    </tr>\n",
       "    <tr>\n",
       "      <th>3</th>\n",
       "      <td>Не могу записаться на прием в поликлинику чере...</td>\n",
       "      <td>Техническая проблема</td>\n",
       "    </tr>\n",
       "    <tr>\n",
       "      <th>4</th>\n",
       "      <td>Какие документы необходимы для регистрации рож...</td>\n",
       "      <td>Запрос на госуслугу</td>\n",
       "    </tr>\n",
       "  </tbody>\n",
       "</table>\n",
       "</div>"
      ],
      "text/plain": [
       "                                                text              category\n",
       "0  Здравствуйте, как я могу получить адресную спр...   Запрос на госуслугу\n",
       "1  Почему портал электронного правительства посто...  Техническая проблема\n",
       "2  Выражаю благодарность сотруднику ЦОНа №3 город...     Предложение/Отзыв\n",
       "3  Не могу записаться на прием в поликлинику чере...  Техническая проблема\n",
       "4  Какие документы необходимы для регистрации рож...   Запрос на госуслугу"
      ]
     },
     "execution_count": 7,
     "metadata": {},
     "output_type": "execute_result"
    }
   ],
   "source": [
    "data_path = os.path.join('..', 'sample_data', 'sample_inquiries.csv')\n",
    "\n",
    "try:\n",
    "    df = pd.read_csv(data_path)\n",
    "    print(f\"Датасет успешно загружен из {data_path}\")\n",
    "    print(f\"Размер: {df.shape}\")\n",
    "except FileNotFoundError:\n",
    "    print(f\"Файл не найден по пути: {data_path}\")\n",
    "    df = pd.DataFrame(columns=['text', 'category'])\n",
    "\n",
    "df.head()"
   ]
  },
  {
   "cell_type": "markdown",
   "id": "ccc49ce8",
   "metadata": {},
   "source": [
    "## 2. Create function for preprocessing text"
   ]
  },
  {
   "cell_type": "code",
   "execution_count": 8,
   "id": "6ba4dbfe",
   "metadata": {},
   "outputs": [],
   "source": [
    "segmenter = Segmenter()\n",
    "morph_tagger = NewsMorphTagger(NewsEmbedding())\n",
    "morph_vocab = MorphVocab()"
   ]
  },
  {
   "cell_type": "code",
   "execution_count": 9,
   "id": "47bdcb76",
   "metadata": {},
   "outputs": [],
   "source": [
    "russian_stopwords = set(stopwords.words(\"russian\"))\n",
    "\n",
    "def preprocess_text(text):\n",
    "    if not isinstance(text, str):\n",
    "        text = str(text)\n",
    "    text = text.lower()\n",
    "    \n",
    "    text = re.sub(r'[^а-яё\\s]', ' ', text)\n",
    "\n",
    "    doc = Doc(text)\n",
    "    doc.segment(segmenter)\n",
    "    doc.tag_morph(morph_tagger)\n",
    "\n",
    "    lemmas = []\n",
    "    for token in doc.tokens:\n",
    "        if token.text not in russian_stopwords:\n",
    "            token.lemmatize(morph_vocab)\n",
    "            lemmas.append(token.lemma)\n",
    "\n",
    "    return lemmas"
   ]
  },
  {
   "cell_type": "markdown",
   "id": "bbebbb55",
   "metadata": {},
   "source": [
    "## 3. Processing all dataset"
   ]
  },
  {
   "cell_type": "code",
   "execution_count": 10,
   "id": "a20bf5a0",
   "metadata": {},
   "outputs": [
    {
     "name": "stdout",
     "output_type": "stream",
     "text": [
      "Предобработка текстов...\n",
      "Готово.\n"
     ]
    }
   ],
   "source": [
    "print(\"Предобработка текстов...\")\n",
    "df['tokens'] = df['text'].apply(preprocess_text)\n",
    "print(\"Готово.\")\n",
    "\n",
    "df['processed_text'] = df['tokens'].apply(lambda tokens: ' '.join(tokens))"
   ]
  },
  {
   "cell_type": "code",
   "execution_count": 11,
   "id": "c8f3ca09",
   "metadata": {},
   "outputs": [
    {
     "data": {
      "text/html": [
       "<div>\n",
       "<style scoped>\n",
       "    .dataframe tbody tr th:only-of-type {\n",
       "        vertical-align: middle;\n",
       "    }\n",
       "\n",
       "    .dataframe tbody tr th {\n",
       "        vertical-align: top;\n",
       "    }\n",
       "\n",
       "    .dataframe thead th {\n",
       "        text-align: right;\n",
       "    }\n",
       "</style>\n",
       "<table border=\"1\" class=\"dataframe\">\n",
       "  <thead>\n",
       "    <tr style=\"text-align: right;\">\n",
       "      <th></th>\n",
       "      <th>text</th>\n",
       "      <th>processed_text</th>\n",
       "      <th>category</th>\n",
       "    </tr>\n",
       "  </thead>\n",
       "  <tbody>\n",
       "    <tr>\n",
       "      <th>0</th>\n",
       "      <td>Здравствуйте, как я могу получить адресную спр...</td>\n",
       "      <td>здравствовать мочь получить адресный справка о...</td>\n",
       "      <td>Запрос на госуслугу</td>\n",
       "    </tr>\n",
       "    <tr>\n",
       "      <th>1</th>\n",
       "      <td>Почему портал электронного правительства посто...</td>\n",
       "      <td>почему портал электронный правительство постоя...</td>\n",
       "      <td>Техническая проблема</td>\n",
       "    </tr>\n",
       "    <tr>\n",
       "      <th>2</th>\n",
       "      <td>Выражаю благодарность сотруднику ЦОНа №3 город...</td>\n",
       "      <td>выражать благодарность сотрудник цон город аст...</td>\n",
       "      <td>Предложение/Отзыв</td>\n",
       "    </tr>\n",
       "    <tr>\n",
       "      <th>3</th>\n",
       "      <td>Не могу записаться на прием в поликлинику чере...</td>\n",
       "      <td>мочь записаться прием поликлиника мобильный пр...</td>\n",
       "      <td>Техническая проблема</td>\n",
       "    </tr>\n",
       "    <tr>\n",
       "      <th>4</th>\n",
       "      <td>Какие документы необходимы для регистрации рож...</td>\n",
       "      <td>какой документ необходимый регистрация рождени...</td>\n",
       "      <td>Запрос на госуслугу</td>\n",
       "    </tr>\n",
       "    <tr>\n",
       "      <th>5</th>\n",
       "      <td>Ужасное обслуживание! Оператор горячей линии б...</td>\n",
       "      <td>ужасный обслуживание оператор горячий линия оч...</td>\n",
       "      <td>Жалоба</td>\n",
       "    </tr>\n",
       "    <tr>\n",
       "      <th>6</th>\n",
       "      <td>Предлагаю улучшить навигацию на вашем сайте, о...</td>\n",
       "      <td>предлагать улучшить навигация ваш сайт очень с...</td>\n",
       "      <td>Предложение/Отзыв</td>\n",
       "    </tr>\n",
       "    <tr>\n",
       "      <th>7</th>\n",
       "      <td>Мое обращение по поводу ремонта дороги зарегис...</td>\n",
       "      <td>мой обращение повод ремонт дорога зарегистриро...</td>\n",
       "      <td>Жалоба</td>\n",
       "    </tr>\n",
       "    <tr>\n",
       "      <th>8</th>\n",
       "      <td>Как получить справку о несудимости, если я нах...</td>\n",
       "      <td>получить справка несудимость находиться границ...</td>\n",
       "      <td>Запрос на госуслугу</td>\n",
       "    </tr>\n",
       "    <tr>\n",
       "      <th>9</th>\n",
       "      <td>Неверно указана моя фамилия в базе данных. Как...</td>\n",
       "      <td>неверно указать фамилия база данные исправить ...</td>\n",
       "      <td>Техническая проблема</td>\n",
       "    </tr>\n",
       "  </tbody>\n",
       "</table>\n",
       "</div>"
      ],
      "text/plain": [
       "                                                text  \\\n",
       "0  Здравствуйте, как я могу получить адресную спр...   \n",
       "1  Почему портал электронного правительства посто...   \n",
       "2  Выражаю благодарность сотруднику ЦОНа №3 город...   \n",
       "3  Не могу записаться на прием в поликлинику чере...   \n",
       "4  Какие документы необходимы для регистрации рож...   \n",
       "5  Ужасное обслуживание! Оператор горячей линии б...   \n",
       "6  Предлагаю улучшить навигацию на вашем сайте, о...   \n",
       "7  Мое обращение по поводу ремонта дороги зарегис...   \n",
       "8  Как получить справку о несудимости, если я нах...   \n",
       "9  Неверно указана моя фамилия в базе данных. Как...   \n",
       "\n",
       "                                      processed_text              category  \n",
       "0  здравствовать мочь получить адресный справка о...   Запрос на госуслугу  \n",
       "1  почему портал электронный правительство постоя...  Техническая проблема  \n",
       "2  выражать благодарность сотрудник цон город аст...     Предложение/Отзыв  \n",
       "3  мочь записаться прием поликлиника мобильный пр...  Техническая проблема  \n",
       "4  какой документ необходимый регистрация рождени...   Запрос на госуслугу  \n",
       "5  ужасный обслуживание оператор горячий линия оч...                Жалоба  \n",
       "6  предлагать улучшить навигация ваш сайт очень с...     Предложение/Отзыв  \n",
       "7  мой обращение повод ремонт дорога зарегистриро...                Жалоба  \n",
       "8  получить справка несудимость находиться границ...   Запрос на госуслугу  \n",
       "9  неверно указать фамилия база данные исправить ...  Техническая проблема  "
      ]
     },
     "execution_count": 11,
     "metadata": {},
     "output_type": "execute_result"
    }
   ],
   "source": [
    "df[['text', 'processed_text', 'category']].head(10)"
   ]
  },
  {
   "cell_type": "code",
   "execution_count": 12,
   "id": "b71796bf",
   "metadata": {},
   "outputs": [
    {
     "name": "stdout",
     "output_type": "stream",
     "text": [
      "Файл сохранён: ..\\processed_data\\inquiries_processed.csv\n"
     ]
    }
   ],
   "source": [
    "processed_data_dir = os.path.join('..', 'processed_data')\n",
    "output_path = os.path.join(processed_data_dir, 'inquiries_processed.csv')\n",
    "\n",
    "if not os.path.exists(processed_data_dir):\n",
    "    os.makedirs(processed_data_dir)\n",
    "\n",
    "df.to_csv(output_path, index=False, encoding='utf-8')\n",
    "print(f\"Файл сохранён: {output_path}\")"
   ]
  },
  {
   "cell_type": "code",
   "execution_count": 4,
   "id": "274f013c",
   "metadata": {},
   "outputs": [
    {
     "name": "stdout",
     "output_type": "stream",
     "text": [
      "До предобработки:\n",
      "\n",
      "Какие сроки рассмотрения заявления на получение пособия по уходу за ребенком до года?\n",
      "\n",
      "После предобработки:\n",
      "\n",
      "какой срок рассмотрение заявление получение пособие уход ребенок год\n"
     ]
    }
   ],
   "source": [
    "import pandas as pd\n",
    "import os\n",
    "\n",
    "processed_data_path = os.path.join('..', 'processed_data', 'inquiries_processed.csv')\n",
    "\n",
    "df = pd.read_csv(processed_data_path)\n",
    "\n",
    "sample = df[['text', 'processed_text']].dropna().sample(1).iloc[0]\n",
    "\n",
    "print(\"До предобработки:\\n\")\n",
    "print(sample['text'])\n",
    "\n",
    "print(\"\\nПосле предобработки:\\n\")\n",
    "print(sample['processed_text'])\n"
   ]
  },
  {
   "cell_type": "code",
   "execution_count": null,
   "id": "1ff3c630",
   "metadata": {},
   "outputs": [],
   "source": []
  }
 ],
 "metadata": {
  "kernelspec": {
   "display_name": "Python 3",
   "language": "python",
   "name": "python3"
  },
  "language_info": {
   "codemirror_mode": {
    "name": "ipython",
    "version": 3
   },
   "file_extension": ".py",
   "mimetype": "text/x-python",
   "name": "python",
   "nbconvert_exporter": "python",
   "pygments_lexer": "ipython3",
   "version": "3.11.9"
  }
 },
 "nbformat": 4,
 "nbformat_minor": 5
}
