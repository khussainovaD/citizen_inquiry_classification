{
 "cells": [
  {
   "cell_type": "markdown",
   "id": "e8c45ee0",
   "metadata": {},
   "source": [
    "# 03. Training and evaluation of classification models"
   ]
  },
  {
   "cell_type": "code",
   "execution_count": 1,
   "id": "2dba1e81",
   "metadata": {},
   "outputs": [],
   "source": [
    "import pandas as pd\n",
    "import numpy as np\n",
    "import os\n",
    "import joblib # для сохранения модели\n",
    "\n",
    "from sklearn.feature_extraction.text import TfidfVectorizer\n",
    "from sklearn.model_selection import train_test_split\n",
    "from sklearn.naive_bayes import MultinomialNB\n",
    "from sklearn.linear_model import LogisticRegression\n",
    "from sklearn.svm import LinearSVC\n",
    "from sklearn.metrics import accuracy_score, classification_report, confusion_matrix\n",
    "import matplotlib.pyplot as plt\n",
    "import seaborn as sns\n",
    "\n",
    "plt.style.use('ggplot')"
   ]
  },
  {
   "cell_type": "markdown",
   "id": "3a5df17c",
   "metadata": {},
   "source": [
    "## 1. Loading processed data"
   ]
  },
  {
   "cell_type": "code",
   "execution_count": 2,
   "id": "209dcf24",
   "metadata": {},
   "outputs": [
    {
     "name": "stdout",
     "output_type": "stream",
     "text": [
      "Processed dataset successfully loaded from ..\\processed_data\\inquiries_processed.csv\n",
      "Dataset size: (98, 4)\n",
      "Size of dataset after deleting empty lines: (98, 4)\n"
     ]
    },
    {
     "data": {
      "text/html": [
       "<div>\n",
       "<style scoped>\n",
       "    .dataframe tbody tr th:only-of-type {\n",
       "        vertical-align: middle;\n",
       "    }\n",
       "\n",
       "    .dataframe tbody tr th {\n",
       "        vertical-align: top;\n",
       "    }\n",
       "\n",
       "    .dataframe thead th {\n",
       "        text-align: right;\n",
       "    }\n",
       "</style>\n",
       "<table border=\"1\" class=\"dataframe\">\n",
       "  <thead>\n",
       "    <tr style=\"text-align: right;\">\n",
       "      <th></th>\n",
       "      <th>text</th>\n",
       "      <th>category</th>\n",
       "      <th>tokens</th>\n",
       "      <th>processed_text</th>\n",
       "    </tr>\n",
       "  </thead>\n",
       "  <tbody>\n",
       "    <tr>\n",
       "      <th>0</th>\n",
       "      <td>Здравствуйте, как я могу получить адресную спр...</td>\n",
       "      <td>Запрос на госуслугу</td>\n",
       "      <td>['здравствовать', 'мочь', 'получить', 'адресны...</td>\n",
       "      <td>здравствовать мочь получить адресный справка о...</td>\n",
       "    </tr>\n",
       "    <tr>\n",
       "      <th>1</th>\n",
       "      <td>Почему портал электронного правительства посто...</td>\n",
       "      <td>Техническая проблема</td>\n",
       "      <td>['почему', 'портал', 'электронный', 'правитель...</td>\n",
       "      <td>почему портал электронный правительство постоя...</td>\n",
       "    </tr>\n",
       "    <tr>\n",
       "      <th>2</th>\n",
       "      <td>Выражаю благодарность сотруднику ЦОНа №3 город...</td>\n",
       "      <td>Предложение/Отзыв</td>\n",
       "      <td>['выражать', 'благодарность', 'сотрудник', 'цо...</td>\n",
       "      <td>выражать благодарность сотрудник цон город аст...</td>\n",
       "    </tr>\n",
       "    <tr>\n",
       "      <th>3</th>\n",
       "      <td>Не могу записаться на прием в поликлинику чере...</td>\n",
       "      <td>Техническая проблема</td>\n",
       "      <td>['мочь', 'записаться', 'прием', 'поликлиника',...</td>\n",
       "      <td>мочь записаться прием поликлиника мобильный пр...</td>\n",
       "    </tr>\n",
       "    <tr>\n",
       "      <th>4</th>\n",
       "      <td>Какие документы необходимы для регистрации рож...</td>\n",
       "      <td>Запрос на госуслугу</td>\n",
       "      <td>['какой', 'документ', 'необходимый', 'регистра...</td>\n",
       "      <td>какой документ необходимый регистрация рождени...</td>\n",
       "    </tr>\n",
       "  </tbody>\n",
       "</table>\n",
       "</div>"
      ],
      "text/plain": [
       "                                                text              category  \\\n",
       "0  Здравствуйте, как я могу получить адресную спр...   Запрос на госуслугу   \n",
       "1  Почему портал электронного правительства посто...  Техническая проблема   \n",
       "2  Выражаю благодарность сотруднику ЦОНа №3 город...     Предложение/Отзыв   \n",
       "3  Не могу записаться на прием в поликлинику чере...  Техническая проблема   \n",
       "4  Какие документы необходимы для регистрации рож...   Запрос на госуслугу   \n",
       "\n",
       "                                              tokens  \\\n",
       "0  ['здравствовать', 'мочь', 'получить', 'адресны...   \n",
       "1  ['почему', 'портал', 'электронный', 'правитель...   \n",
       "2  ['выражать', 'благодарность', 'сотрудник', 'цо...   \n",
       "3  ['мочь', 'записаться', 'прием', 'поликлиника',...   \n",
       "4  ['какой', 'документ', 'необходимый', 'регистра...   \n",
       "\n",
       "                                      processed_text  \n",
       "0  здравствовать мочь получить адресный справка о...  \n",
       "1  почему портал электронный правительство постоя...  \n",
       "2  выражать благодарность сотрудник цон город аст...  \n",
       "3  мочь записаться прием поликлиника мобильный пр...  \n",
       "4  какой документ необходимый регистрация рождени...  "
      ]
     },
     "execution_count": 2,
     "metadata": {},
     "output_type": "execute_result"
    }
   ],
   "source": [
    "processed_data_path = os.path.join('..', 'processed_data', 'inquiries_processed.csv')\n",
    "\n",
    "try:\n",
    "    df = pd.read_csv(processed_data_path)\n",
    "    print(f\"Processed dataset successfully loaded from {processed_data_path}\")\n",
    "    print(f\"Dataset size: {df.shape}\")\n",
    "except FileNotFoundError:\n",
    "    print(f\"Error {processed_data_path}\")\n",
    "    df = pd.DataFrame()\n",
    "\n",
    "# Проверим наличие пропусков в 'processed_text', которые могли появиться, если текст состоял только из стоп-слов\n",
    "df.dropna(subset=['processed_text'], inplace=True)\n",
    "print(f\"Size of dataset after deleting empty lines: {df.shape}\")\n",
    "\n",
    "df.head()"
   ]
  },
  {
   "cell_type": "markdown",
   "id": "834fa8a9",
   "metadata": {},
   "source": [
    "## 2. Preparation of data for modelling"
   ]
  },
  {
   "cell_type": "code",
   "execution_count": 4,
   "id": "43565f32",
   "metadata": {},
   "outputs": [
    {
     "name": "stdout",
     "output_type": "stream",
     "text": [
      "Text data converted to TF-IDF matrix size: (98, 462)\n"
     ]
    }
   ],
   "source": [
    "X = df['processed_text']\n",
    "y = df['category']\n",
    "\n",
    "# Инициализация TF-IDF векторизатора\n",
    "vectorizer = TfidfVectorizer(max_features=5000)\n",
    "\n",
    "X_tfidf = vectorizer.fit_transform(X)\n",
    "\n",
    "print(f\"Text data converted to TF-IDF matrix size: {X_tfidf.shape}\")"
   ]
  },
  {
   "cell_type": "code",
   "execution_count": 5,
   "id": "46e9b872",
   "metadata": {},
   "outputs": [
    {
     "name": "stdout",
     "output_type": "stream",
     "text": [
      "Размер training sample: 78 строк\n",
      "Размер test sample: 20 строк\n"
     ]
    }
   ],
   "source": [
    "X_train, X_test, y_train, y_test = train_test_split(\n",
    "    X_tfidf, \n",
    "    y, \n",
    "    test_size=0.2, \n",
    "    random_state=42, # для воспроизводимости результатов\n",
    "    stratify=y\n",
    ")\n",
    "\n",
    "print(f\"Размер training sample: {X_train.shape[0]} строк\")\n",
    "print(f\"Размер test sample: {X_test.shape[0]} строк\")"
   ]
  },
  {
   "cell_type": "markdown",
   "id": "b5619e0c",
   "metadata": {},
   "source": [
    "## 3. Model learning and evaluation"
   ]
  },
  {
   "cell_type": "code",
   "execution_count": 6,
   "id": "fd97f0de",
   "metadata": {},
   "outputs": [
    {
     "name": "stdout",
     "output_type": "stream",
     "text": [
      "--- Model training: Multinomial Naive Bayes ---\n",
      "Accuracy: 0.6000\n",
      "Classification report:\n",
      "                      precision    recall  f1-score   support\n",
      "\n",
      "              Жалоба       0.50      0.25      0.33         4\n",
      " Запрос на госуслугу       0.67      1.00      0.80         4\n",
      " Консультация/Вопрос       1.00      0.50      0.67         4\n",
      "   Предложение/Отзыв       0.50      0.25      0.33         4\n",
      "Техническая проблема       0.50      1.00      0.67         4\n",
      "\n",
      "            accuracy                           0.60        20\n",
      "           macro avg       0.63      0.60      0.56        20\n",
      "        weighted avg       0.63      0.60      0.56        20\n",
      "\n",
      "\n",
      "\n",
      "--- Model training: Logistic Regression ---\n",
      "Accuracy: 0.6500\n",
      "Classification report:\n",
      "                      precision    recall  f1-score   support\n",
      "\n",
      "              Жалоба       0.50      0.25      0.33         4\n",
      " Запрос на госуслугу       0.67      1.00      0.80         4\n",
      " Консультация/Вопрос       1.00      0.50      0.67         4\n",
      "   Предложение/Отзыв       0.67      0.50      0.57         4\n",
      "Техническая проблема       0.57      1.00      0.73         4\n",
      "\n",
      "            accuracy                           0.65        20\n",
      "           macro avg       0.68      0.65      0.62        20\n",
      "        weighted avg       0.68      0.65      0.62        20\n",
      "\n",
      "\n",
      "\n",
      "--- Model training: Linear SVM ---\n",
      "Accuracy: 0.6500\n",
      "Classification report:\n",
      "                      precision    recall  f1-score   support\n",
      "\n",
      "              Жалоба       0.33      0.25      0.29         4\n",
      " Запрос на госуслугу       0.67      1.00      0.80         4\n",
      " Консультация/Вопрос       1.00      0.75      0.86         4\n",
      "   Предложение/Отзыв       1.00      0.50      0.67         4\n",
      "Техническая проблема       0.50      0.75      0.60         4\n",
      "\n",
      "            accuracy                           0.65        20\n",
      "           macro avg       0.70      0.65      0.64        20\n",
      "        weighted avg       0.70      0.65      0.64        20\n",
      "\n",
      "\n",
      "\n"
     ]
    }
   ],
   "source": [
    "models = {\n",
    "    \"Multinomial Naive Bayes\": MultinomialNB(),\n",
    "    \"Logistic Regression\": LogisticRegression(max_iter=1000, random_state=42),\n",
    "    \"Linear SVM\": LinearSVC(random_state=42)\n",
    "}\n",
    "\n",
    "results = {}\n",
    "\n",
    "for model_name, model in models.items():\n",
    "    print(f\"--- Model training: {model_name} ---\")\n",
    "    \n",
    "    model.fit(X_train, y_train)\n",
    "    \n",
    "    y_pred = model.predict(X_test)\n",
    "    \n",
    "    accuracy = accuracy_score(y_test, y_pred)\n",
    "    report = classification_report(y_test, y_pred, zero_division=0)\n",
    "    \n",
    "    results[model_name] = {\n",
    "        'accuracy': accuracy,\n",
    "        'report': report,\n",
    "        'predictions': y_pred\n",
    "    }\n",
    "    \n",
    "    print(f\"Accuracy: {accuracy:.4f}\")\n",
    "    print(\"Classification report:\")\n",
    "    print(report)\n",
    "    print(\"\\n\")"
   ]
  },
  {
   "cell_type": "markdown",
   "id": "ff0f9ff9",
   "metadata": {},
   "source": [
    "## 4. Result visualization (Confusion Matrix)"
   ]
  },
  {
   "cell_type": "code",
   "execution_count": 8,
   "id": "c68c4aea",
   "metadata": {},
   "outputs": [],
   "source": [
    "best_model_name = \"Logistic Regression\"\n",
    "best_model_predictions = results[best_model_name]['predictions']\n",
    "\n",
    "class_names = sorted(y.unique())\n",
    "\n",
    "cm = confusion_matrix(y_test, best_model_predictions, labels=class_names)"
   ]
  },
  {
   "cell_type": "code",
   "execution_count": 9,
   "id": "17d0bfe1",
   "metadata": {},
   "outputs": [
    {
     "data": {
      "image/png": "[encoded data removed]",
      "text/plain": [
       "<Figure size 1000x800 with 2 Axes>"
      ]
     },
     "metadata": {},
     "output_type": "display_data"
    }
   ],
   "source": [
    "plt.figure(figsize=(10, 8))\n",
    "sns.heatmap(cm, annot=True, fmt='d', cmap='Blues',\n",
    "            xticklabels=class_names, yticklabels=class_names)\n",
    "plt.title(f'Матрица ошибок для модели: {best_model_name}', fontsize=16)\n",
    "plt.xlabel('Предсказанная категория', fontsize=14)\n",
    "plt.ylabel('Истинная категория', fontsize=14)\n",
    "plt.xticks(fontsize=12)\n",
    "plt.yticks(fontsize=12)\n",
    "plt.show()"
   ]
  },
  {
   "cell_type": "markdown",
   "id": "5c02c7fc",
   "metadata": {},
   "source": [
    "## 5. Saving the best model and vector"
   ]
  },
  {
   "cell_type": "code",
   "execution_count": 10,
   "id": "c73b5bf2",
   "metadata": {},
   "outputs": [
    {
     "name": "stdout",
     "output_type": "stream",
     "text": [
      "Создана директория: ..\\models\n"
     ]
    }
   ],
   "source": [
    "best_model = models['Logistic Regression'] \n",
    "\n",
    "models_dir = os.path.join('..', 'models')\n",
    "if not os.path.exists(models_dir):\n",
    "    os.makedirs(models_dir)\n",
    "    print(f\"Создана директория: {models_dir}\")\n",
    "\n",
    "model_path = os.path.join(models_dir, 'best_classifier_model.joblib')\n",
    "vectorizer_path = os.path.join(models_dir, 'tfidf_vectorizer.joblib')\n"
   ]
  },
  {
   "cell_type": "code",
   "execution_count": 11,
   "id": "ae606ef2",
   "metadata": {},
   "outputs": [
    {
     "name": "stdout",
     "output_type": "stream",
     "text": [
      "\n",
      "Лучшая модель сохранена в: ..\\models\\best_classifier_model.joblib\n",
      "Векторизатор сохранен в: ..\\models\\tfidf_vectorizer.joblib\n"
     ]
    }
   ],
   "source": [
    "joblib.dump(best_model, model_path)\n",
    "joblib.dump(vectorizer, vectorizer_path)\n",
    "\n",
    "print(f\"\\nЛучшая модель сохранена в: {model_path}\")\n",
    "print(f\"Векторизатор сохранен в: {vectorizer_path}\")"
   ]
  }
 ],
 "metadata": {
  "kernelspec": {
   "display_name": "Python 3",
   "language": "python",
   "name": "python3"
  },
  "language_info": {
   "codemirror_mode": {
    "name": "ipython",
    "version": 3
   },
   "file_extension": ".py",
   "mimetype": "text/x-python",
   "name": "python",
   "nbconvert_exporter": "python",
   "pygments_lexer": "ipython3",
   "version": "3.11.9"
  }
 },
 "nbformat": 4,
 "nbformat_minor": 5
}
